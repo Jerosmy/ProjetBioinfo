{
 "cells": [
  {
   "cell_type": "code",
   "execution_count": 2,
   "id": "f171beb1",
   "metadata": {},
   "outputs": [
    {
     "name": "stdout",
     "output_type": "stream",
     "text": [
      "C:\\Users\\alber\\OneDrive\\Documents\\GitHub\\ProjetBioinfo\n"
     ]
    },
    {
     "data": {
      "text/plain": [
       "['expl_analysis.png', '00_BPStart']"
      ]
     },
     "execution_count": 2,
     "metadata": {},
     "output_type": "execute_result"
    }
   ],
   "source": [
    "import pandas as pd\n",
    "import os\n",
    "import gene_tools as gt\n",
    "\n",
    "\n",
    "os.chdir(\"C:/Users/alber/OneDrive/Documents/GitHub/ProjetBioinfo\")\n",
    "\n",
    "print(os.getcwd())\n",
    "os.listdir(\"data\")"
   ]
  },
  {
   "cell_type": "code",
   "execution_count": 3,
   "id": "f66c9aba",
   "metadata": {},
   "outputs": [],
   "source": [
    "from gene_tools import foldersLoad, cleanDic, compute_scores, geneScores, NA_filtering,evaluate_trait_scores,evaluate_OR\n",
    "from Scoring.scomet import Mean, Max, Min, Median, pca\n",
    "\n",
    "root_path = os.path.join('data', '00_BPStart/00_gene_prioritization')\n",
    "\n",
    "folders = ['eQTL_GWAS_blood', 'Exome', 'GWAS','pQTL_GWAS']\n",
    "raw_data = foldersLoad(root_path, folders)\n",
    "merged = pd.read_csv(r\"data\\00_BPStart\\merged_drug_all_db_with_hgnc_TTD.tsv\", sep=\"\\t\")\n",
    "dic_clean = gt.cleanDic(raw_data)\n"
   ]
  },
  {
   "cell_type": "code",
   "execution_count": 6,
   "id": "fe01994f",
   "metadata": {},
   "outputs": [
    {
     "name": "stdout",
     "output_type": "stream",
     "text": [
      "Prioscore_mean: 20.00% of top 1% are drug targets\n",
      "Prioscore_max: 7.69% of top 1% are drug targets\n",
      "Prioscore_min: 6.01% of top 1% are drug targets\n",
      "Prioscore_median: 22.22% of top 1% are drug targets\n",
      "Prioscore_product: 9.35% of top 1% are drug targets\n",
      "Prioscore_mean: 4.41% of top 1% are drug targets\n",
      "Prioscore_max: 2.94% of top 1% are drug targets\n",
      "Prioscore_min: 6.37% of top 1% are drug targets\n",
      "Prioscore_median: 4.90% of top 1% are drug targets\n",
      "Prioscore_product: 5.39% of top 1% are drug targets\n"
     ]
    },
    {
     "data": {
      "text/plain": [
       "19197"
      ]
     },
     "execution_count": 6,
     "metadata": {},
     "output_type": "execute_result"
    }
   ],
   "source": [
    "from Scoring.scomet import Mean, Max, Min, Median, pca, Product\n",
    "\n",
    "ldl_clean = dic_clean[\"LDL\"]\n",
    "\n",
    "Max(ldl_clean)\n",
    "Mean(ldl_clean)\n",
    "Median(ldl_clean)\n",
    "Min(ldl_clean)\n",
    "Product(ldl_clean)\n",
    "\n",
    "score_cols = [\"Prioscore_mean\", \"Prioscore_max\", \"Prioscore_min\", \"Prioscore_median\",\"Prioscore_product\"]\n",
    "drug_targets = set(merged[merged['trait'] == 'LDL'].loc[merged[merged['trait'] == 'LDL'][\"Sum\"] >= 3,\"EnsemblId\"])   \n",
    "                                                                                                             \n",
    "for col in score_cols:\n",
    "    top = ldl_clean.loc[ldl_clean[col] < 0.5]\n",
    "    top_ids = set(top[\"EnsemblId\"])\n",
    "    overlap = top_ids & drug_targets\n",
    "    percent = 100 * len(overlap) / len(top_ids)\n",
    "    print(f\"{col}: {percent:.2f}% of top 1% are drug targets\")\n",
    "    \n",
    "for col in score_cols:\n",
    "    top = ldl_clean.sort_values(by=col, ascending=True).head(int(0.01 * len(ldl_clean)))\n",
    "    top_ids = set(top[\"EnsemblId\"])\n",
    "    overlap = top_ids & drug_targets\n",
    "    percent = 100 * len(overlap) / len(top_ids)\n",
    "    print(f\"{col}: {percent:.2f}% of top 1% are drug targets\")\n",
    "\n",
    "\n",
    "    \n",
    "len(ldl_clean[\"GWAS_percentile\"].dropna())"
   ]
  },
  {
   "cell_type": "code",
   "execution_count": 9,
   "id": "4e2ebf69",
   "metadata": {},
   "outputs": [
    {
     "ename": "TypeError",
     "evalue": "evaluate_trait_scores() got an unexpected keyword argument 'df'",
     "output_type": "error",
     "traceback": [
      "\u001b[1;31m---------------------------------------------------------------------------\u001b[0m",
      "\u001b[1;31mTypeError\u001b[0m                                 Traceback (most recent call last)",
      "Cell \u001b[1;32mIn[9], line 1\u001b[0m\n\u001b[1;32m----> 1\u001b[0m evaluate_trait_scores(\n\u001b[0;32m      2\u001b[0m     df \u001b[38;5;241m=\u001b[39m ldl_clean,\n\u001b[0;32m      3\u001b[0m     drug_reference\u001b[38;5;241m=\u001b[39m merged,\n\u001b[0;32m      4\u001b[0m     score_columns\u001b[38;5;241m=\u001b[39m[\u001b[38;5;124m\"\u001b[39m\u001b[38;5;124mPrioscore_mean\u001b[39m\u001b[38;5;124m\"\u001b[39m, \u001b[38;5;124m\"\u001b[39m\u001b[38;5;124mPrioscore_max\u001b[39m\u001b[38;5;124m\"\u001b[39m, \u001b[38;5;124m\"\u001b[39m\u001b[38;5;124mPrioscore_min\u001b[39m\u001b[38;5;124m\"\u001b[39m, \u001b[38;5;124m\"\u001b[39m\u001b[38;5;124mPrioscore_median\u001b[39m\u001b[38;5;124m\"\u001b[39m, \u001b[38;5;124m\"\u001b[39m\u001b[38;5;124mPrioscore_product\u001b[39m\u001b[38;5;124m\"\u001b[39m],\n\u001b[0;32m      5\u001b[0m     overlap_method\u001b[38;5;241m=\u001b[39m\u001b[38;5;124m\"\u001b[39m\u001b[38;5;124mtopvalues\u001b[39m\u001b[38;5;124m\"\u001b[39m,\n\u001b[0;32m      6\u001b[0m     cutoff\u001b[38;5;241m=\u001b[39m\u001b[38;5;241m0.01\u001b[39m,\n\u001b[0;32m      7\u001b[0m     printer\u001b[38;5;241m=\u001b[39m\u001b[38;5;28;01mTrue\u001b[39;00m,\n\u001b[0;32m      8\u001b[0m     targetthreshold\u001b[38;5;241m=\u001b[39m\u001b[38;5;241m3\u001b[39m)\n",
      "\u001b[1;31mTypeError\u001b[0m: evaluate_trait_scores() got an unexpected keyword argument 'df'"
     ]
    }
   ],
   "source": [
    "evaluate_trait_scores(\n",
    "    df = ldl_clean,\n",
    "    drug_reference= merged,\n",
    "    score_columns=[\"Prioscore_mean\", \"Prioscore_max\", \"Prioscore_min\", \"Prioscore_median\", \"Prioscore_product\"],\n",
    "    overlap_method=\"topvalues\",\n",
    "    cutoff=0.01,\n",
    "    printer=True,\n",
    "    targetthreshold=3)"
   ]
  },
  {
   "cell_type": "code",
   "execution_count": null,
   "id": "64fee6c7",
   "metadata": {},
   "outputs": [
    {
     "name": "stdout",
     "output_type": "stream",
     "text": [
      "Prioscore_mean: OR = 1.62, p = 2.8244e-01, drug targets in top 0.5% = 6\n",
      "Prioscore_max: OR = 1.62, p = 2.8244e-01, drug targets in top 0.5% = 6\n",
      "Prioscore_min: OR = 3.83, p = 1.0388e-04, drug targets in top 0.5% = 13\n",
      "Prioscore_median: OR = 3.16, p = 1.4382e-03, drug targets in top 0.5% = 11\n",
      "Prioscore_product: OR = 3.49, p = 4.0380e-04, drug targets in top 0.5% = 12\n"
     ]
    }
   ],
   "source": [
    "\n",
    "\n",
    "from gene_tools.analysis import evaluate_OR\n",
    "\n",
    "evaluate_OR(merged,ldl_clean,sum_threshold=3,top_percent = 0.005,score_cols = [\"Prioscore_mean\", \"Prioscore_max\", \"Prioscore_min\", \"Prioscore_median\",\"Prioscore_product\"])\n"
   ]
  }
 ],
 "metadata": {
  "kernelspec": {
   "display_name": "base",
   "language": "python",
   "name": "python3"
  },
  "language_info": {
   "codemirror_mode": {
    "name": "ipython",
    "version": 3
   },
   "file_extension": ".py",
   "mimetype": "text/x-python",
   "name": "python",
   "nbconvert_exporter": "python",
   "pygments_lexer": "ipython3",
   "version": "3.11.7"
  }
 },
 "nbformat": 4,
 "nbformat_minor": 5
}
