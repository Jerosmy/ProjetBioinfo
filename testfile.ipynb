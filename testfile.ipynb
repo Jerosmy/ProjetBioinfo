{
 "cells": [
  {
   "cell_type": "code",
   "execution_count": 1,
   "id": "f171beb1",
   "metadata": {},
   "outputs": [
    {
     "name": "stdout",
     "output_type": "stream",
     "text": [
      "C:\\Users\\alber\\OneDrive\\Documents\\GitHub\\ProjetBioinfo\n"
     ]
    },
    {
     "data": {
      "text/plain": [
       "['expl_analysis.png', '00_BPStart']"
      ]
     },
     "execution_count": 1,
     "metadata": {},
     "output_type": "execute_result"
    }
   ],
   "source": [
    "import pandas as pd\n",
    "import os\n",
    "import gene_tools as gt\n",
    "\n",
    "\n",
    "os.chdir(\"C:/Users/alber/OneDrive/Documents/GitHub/ProjetBioinfo\")\n",
    "\n",
    "print(os.getcwd())\n",
    "os.listdir(\"data\")"
   ]
  },
  {
   "cell_type": "code",
   "execution_count": 2,
   "id": "f66c9aba",
   "metadata": {},
   "outputs": [],
   "source": [
    "from gene_tools import foldersLoad, cleanDic, compute_scores, geneScores, NA_filtering,evaluate_trait_scores,evaluate_OR\n",
    "from Scoring.scomet import Mean, Max, Min, Median, pca\n",
    "\n",
    "root_path = os.path.join('data', '00_BPStart/00_gene_prioritization')\n",
    "\n",
    "folders = ['eQTL_GWAS_blood', 'Exome', 'GWAS','pQTL_GWAS']\n",
    "raw_data = foldersLoad(root_path, folders)\n",
    "merged = pd.read_csv(r\"data\\00_BPStart\\merged_drug_all_db_with_hgnc_TTD.tsv\", sep=\"\\t\")\n",
    "dic_clean = gt.cleanDic(raw_data)\n"
   ]
  },
  {
   "cell_type": "code",
   "execution_count": 3,
   "id": "fe01994f",
   "metadata": {},
   "outputs": [
    {
     "name": "stdout",
     "output_type": "stream",
     "text": [
      "Prioscore_mean: 20.00% of top 1% are drug targets\n",
      "Prioscore_max: 7.69% of top 1% are drug targets\n",
      "Prioscore_min: 6.01% of top 1% are drug targets\n",
      "Prioscore_median: 22.22% of top 1% are drug targets\n",
      "Prioscore_product: 9.35% of top 1% are drug targets\n",
      "Prioscore_mean: 4.41% of top 1% are drug targets\n",
      "Prioscore_max: 2.94% of top 1% are drug targets\n",
      "Prioscore_min: 6.37% of top 1% are drug targets\n",
      "Prioscore_median: 4.90% of top 1% are drug targets\n",
      "Prioscore_product: 5.39% of top 1% are drug targets\n"
     ]
    },
    {
     "data": {
      "text/plain": [
       "19197"
      ]
     },
     "execution_count": 3,
     "metadata": {},
     "output_type": "execute_result"
    }
   ],
   "source": [
    "from Scoring.scomet import Mean, Max, Min, Median, pca, Product\n",
    "\n",
    "ldl_clean = dic_clean[\"LDL\"]\n",
    "\n",
    "Max(ldl_clean)\n",
    "Mean(ldl_clean)\n",
    "Median(ldl_clean)\n",
    "Min(ldl_clean)\n",
    "Product(ldl_clean)\n",
    "\n",
    "score_cols = [\"Prioscore_mean\", \"Prioscore_max\", \"Prioscore_min\", \"Prioscore_median\",\"Prioscore_product\"]\n",
    "drug_targets = set(merged[merged['trait'] == 'LDL'].loc[merged[merged['trait'] == 'LDL'][\"Sum\"] >= 3,\"EnsemblId\"])   \n",
    "                                                                                                             \n",
    "for col in score_cols:\n",
    "    top = ldl_clean.loc[ldl_clean[col] < 0.5]\n",
    "    top_ids = set(top[\"EnsemblId\"])\n",
    "    overlap = top_ids & drug_targets\n",
    "    percent = 100 * len(overlap) / len(top_ids)\n",
    "    print(f\"{col}: {percent:.2f}% of top 1% are drug targets\")\n",
    "    \n",
    "for col in score_cols:\n",
    "    top = ldl_clean.sort_values(by=col, ascending=True).head(int(0.01 * len(ldl_clean)))\n",
    "    top_ids = set(top[\"EnsemblId\"])\n",
    "    overlap = top_ids & drug_targets\n",
    "    percent = 100 * len(overlap) / len(top_ids)\n",
    "    print(f\"{col}: {percent:.2f}% of top 1% are drug targets\")\n",
    "\n",
    "\n",
    "    \n",
    "len(ldl_clean[\"GWAS_percentile\"].dropna())"
   ]
  },
  {
   "cell_type": "code",
   "execution_count": 4,
   "id": "4e2ebf69",
   "metadata": {},
   "outputs": [
    {
     "data": {
      "text/plain": [
       "{'LDL': {'Prioscore_mean': 4.411764705882353,\n",
       "  'Prioscore_max': 2.9411764705882355,\n",
       "  'Prioscore_min': 6.372549019607843,\n",
       "  'Prioscore_median': 4.901960784313726,\n",
       "  'Prioscore_product': 5.392156862745098}}"
      ]
     },
     "execution_count": 4,
     "metadata": {},
     "output_type": "execute_result"
    }
   ],
   "source": [
    "evaluate_trait_scores(\n",
    "    df = ldl_clean,\n",
    "    drug_reference= merged,\n",
    "    score_columns=[\"Prioscore_mean\", \"Prioscore_max\", \"Prioscore_min\", \"Prioscore_median\", \"Prioscore_product\"],\n",
    "    overlap_method=\"topvalues\",\n",
    "    cutoff=0.01,\n",
    "    printer=False,\n",
    "    targetthreshold=3)"
   ]
  },
  {
   "cell_type": "code",
   "execution_count": 5,
   "id": "64fee6c7",
   "metadata": {},
   "outputs": [
    {
     "name": "stdout",
     "output_type": "stream",
     "text": [
      "[LDL] Prioscore_mean: OR = 1.63, p = 1.3131e-01, drug targets in top 1% = 12\n",
      "[LDL] Prioscore_max: OR = 1.06, p = 8.5133e-01, drug targets in top 1% = 8\n",
      "[LDL] Prioscore_min: OR = 2.54, p = 6.3730e-04, drug targets in top 1% = 18\n",
      "[LDL] Prioscore_median: OR = 1.93, p = 2.4393e-02, drug targets in top 1% = 14\n",
      "[LDL] Prioscore_product: OR = 1.78, p = 5.8955e-02, drug targets in top 1% = 13\n"
     ]
    },
    {
     "data": {
      "text/plain": [
       "{'LDL': {'Prioscore_mean': [1.628, 0.131, 12],\n",
       "  'Prioscore_max': [1.057, 0.851, 8],\n",
       "  'Prioscore_min': [2.542, 0.001, 18],\n",
       "  'Prioscore_median': [1.925, 0.024, 14],\n",
       "  'Prioscore_product': [1.776, 0.059, 13]}}"
      ]
     },
     "execution_count": 5,
     "metadata": {},
     "output_type": "execute_result"
    }
   ],
   "source": [
    "\n",
    "\n",
    "from gene_tools.analysis import evaluate_OR\n",
    "\n",
    "evaluate_OR(merged,ldl_clean,sum_threshold=3,cutoff = 0.01,score_cols = [\"Prioscore_mean\", \"Prioscore_max\", \"Prioscore_min\", \"Prioscore_median\",\"Prioscore_product\"],method=\"topvalues\")\n"
   ]
  }
 ],
 "metadata": {
  "kernelspec": {
   "display_name": "base",
   "language": "python",
   "name": "python3"
  },
  "language_info": {
   "codemirror_mode": {
    "name": "ipython",
    "version": 3
   },
   "file_extension": ".py",
   "mimetype": "text/x-python",
   "name": "python",
   "nbconvert_exporter": "python",
   "pygments_lexer": "ipython3",
   "version": "3.11.7"
  }
 },
 "nbformat": 4,
 "nbformat_minor": 5
}
