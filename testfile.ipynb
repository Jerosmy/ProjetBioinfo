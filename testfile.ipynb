{
 "cells": [
  {
   "cell_type": "code",
   "execution_count": 2,
   "id": "8d394efb",
   "metadata": {},
   "outputs": [],
   "source": [
    "import scipy\n",
    "\n",
    "import pandas as pd\n",
    "import numpy as np\n",
    "from scipy.stats import fisher_exact\n",
    "import gene_tools\n",
    "import os\n",
    "from gene_tools import foldersLoad, cleanDic, compute_scores,geneScores, NA_filtering,evaluate_trait_scores,evaluate_OR,run_full_trait_pipeline,compare_drug_target_percentiles\n",
    "from Scoring.scomet import Mean, Max, Min, Median, pca, Product"
   ]
  },
  {
   "cell_type": "code",
   "execution_count": 3,
   "id": "f66c9aba",
   "metadata": {},
   "outputs": [],
   "source": [
    "\n",
    "root_path = os.path.join('data', '00_BPStart/00_gene_prioritization')\n",
    "folders = ['eQTL_GWAS_blood', 'Exome', 'GWAS','pQTL_GWAS']\n",
    "raw_data = foldersLoad(root_path, folders)\n",
    "merged = pd.read_csv(r\"data\\00_BPStart\\merged_drug_all_db_with_hgnc_TTD.tsv\", sep=\"\\t\")\n",
    "dic_clean = cleanDic(raw_data)\n"
   ]
  },
  {
   "cell_type": "code",
   "execution_count": 4,
   "id": "fe01994f",
   "metadata": {},
   "outputs": [
    {
     "data": {
      "text/plain": [
       "{'LDL': {'Prioscore_mean': 3.922,\n",
       "  'Prioscore_max': 3.922,\n",
       "  'Prioscore_min': 11.765,\n",
       "  'Prioscore_median': 9.804,\n",
       "  'Prioscore_product': 9.804}}"
      ]
     },
     "execution_count": 4,
     "metadata": {},
     "output_type": "execute_result"
    }
   ],
   "source": [
    "from Scoring.scomet import Mean, Max, Min, Median, pca, Product\n",
    "\n",
    "ldl_clean = dic_clean[\"LDL\"]\n",
    "\n",
    "evaluate_trait_scores(\n",
    "    df = ldl_clean,\n",
    "    drug_reference= merged,\n",
    "    scoring_functions=[ Mean, Max, Min, Median, Product],\n",
    "    score_columns=[\"Prioscore_mean\", \"Prioscore_max\", \"Prioscore_min\", \"Prioscore_median\", \"Prioscore_product\"],\n",
    "    overlap_method=\"topvalues\",\n",
    "    cutoff=0.005,\n",
    "    printer=False,\n",
    "    targetthreshold=3)\n"
   ]
  },
  {
   "cell_type": "code",
   "execution_count": 5,
   "id": "64fee6c7",
   "metadata": {},
   "outputs": [
    {
     "name": "stdout",
     "output_type": "stream",
     "text": [
      "[TC] Prioscore_mean: OR = 6.99, p = 3.4761e-04, drug targets in top 1.0% = 6\n",
      "[TC] Prioscore_max: OR = 6.99, p = 3.4761e-04, drug targets in top 1.0% = 6\n",
      "[TC] Prioscore_min: OR = 22.19, p = 1.1043e-15, drug targets in top 1.0% = 16\n",
      "[TC] Prioscore_median: OR = 18.72, p = 4.8650e-13, drug targets in top 1.0% = 14\n",
      "[TC] Prioscore_product: OR = 17.08, p = 8.9906e-12, drug targets in top 1.0% = 13\n"
     ]
    }
   ],
   "source": [
    "from gene_tools.analysis import evaluate_OR, run_full_trait_pipeline\n",
    "\n",
    "\n",
    "TC_clean = dic_clean[\"TC\"]\n",
    "\n",
    "\n",
    "res = evaluate_OR(\n",
    "    reference=merged,\n",
    "    mydf=TC_clean,\n",
    "    scoring_functions=[Mean, Max, Min, Median, Product],\n",
    "    score_cols=[\n",
    "      \"Prioscore_mean\", \"Prioscore_max\", \n",
    "      \"Prioscore_min\", \"Prioscore_median\", \n",
    "      \"Prioscore_product\"\n",
    "    ],\n",
    "    sum_threshold=3,\n",
    "    cutoff=0.01,\n",
    "    method=\"topvalues\",\n",
    "    printer=True\n",
    ")\n",
    "\n"
   ]
  },
  {
   "cell_type": "code",
   "execution_count": 6,
   "id": "cc05f539",
   "metadata": {},
   "outputs": [
    {
     "name": "stdout",
     "output_type": "stream",
     "text": [
      "For 0.5% : \n",
      "('TC', 'Prioscore_min', np.float64(48.756))\n",
      "for 1%: \n",
      "('TC', 'Prioscore_min', np.float64(22.191))\n",
      "for 5%: \n",
      "('TC', 'Prioscore_min', np.float64(6.758))\n"
     ]
    }
   ],
   "source": [
    "def get_best_trait_method(finaldic):\n",
    "    best_trait = None\n",
    "    best_method = None\n",
    "    best_or = -float('inf')\n",
    "\n",
    "    for trait, res in finaldic.items():\n",
    "        for method, (or_val, p_val, n) in res['OR_eval'].items():\n",
    "            if or_val > best_or:\n",
    "                best_or = or_val\n",
    "                best_trait = trait\n",
    "                best_method = method\n",
    "\n",
    "    return best_trait, best_method, best_or\n",
    "\n",
    "print(f\"For 0.5% : \")\n",
    "finaldic = run_full_trait_pipeline(dic_clean,drug_reference=merged,scoring_functions = [Mean, Max, Min, Median, Product],\n",
    "                                   evaluate_or_fn=evaluate_OR,evaluate_score_fn=evaluate_trait_scores,\n",
    "                        score_kwargs={\"cutoff\": 0.005,\"overlap_method\": \"topvalues\"},or_kwargs = {\"score_cols\" : [\"Prioscore_mean\", \"Prioscore_max\", \"Prioscore_min\", \"Prioscore_median\",\"Prioscore_product\"],\n",
    "                        \"method\" : \"topvalues\",\"cutoff\":0.005}\n",
    "                        ,verbose = False)\n",
    "print(get_best_trait_method(finaldic))\n",
    "\n",
    "\n",
    "\n",
    "print(f\"for 1%: \")\n",
    "finaldic = run_full_trait_pipeline(dic_clean,drug_reference=merged,scoring_functions = [Mean, Max, Min, Median, Product],\n",
    "                                   evaluate_or_fn=evaluate_OR,evaluate_score_fn=evaluate_trait_scores,\n",
    "                        score_kwargs={\"cutoff\": 0.01,\"overlap_method\": \"topvalues\"},or_kwargs = {\"score_cols\" : [\"Prioscore_mean\", \"Prioscore_max\", \"Prioscore_min\", \"Prioscore_median\",\"Prioscore_product\"],\n",
    "                        \"method\" : \"topvalues\",\"cutoff\":0.01}\n",
    "                        ,verbose = False)\n",
    "print(get_best_trait_method(finaldic))\n",
    "\n",
    "print(f\"for 5%: \")\n",
    "\n",
    "finaldic = run_full_trait_pipeline(dic_clean,drug_reference=merged,scoring_functions = [Mean, Max, Min, Median, Product],\n",
    "                                   evaluate_or_fn=evaluate_OR,evaluate_score_fn=evaluate_trait_scores,\n",
    "                        score_kwargs={\"cutoff\": 0.05,\"overlap_method\": \"topvalues\"},or_kwargs = {\"score_cols\" : [\"Prioscore_mean\", \"Prioscore_max\", \"Prioscore_min\", \"Prioscore_median\",\"Prioscore_product\"],\n",
    "                        \"method\" : \"topvalues\",\"cutoff\":0.05}\n",
    "                        ,verbose = False)\n",
    "\n",
    "print(get_best_trait_method(finaldic))\n"
   ]
  },
  {
   "cell_type": "code",
   "execution_count": 7,
   "id": "63508abf",
   "metadata": {},
   "outputs": [
    {
     "data": {
      "text/plain": [
       "{'data':              EnsemblId Trait  eQTL_percentile  Exome_percentile  \\\n",
       " 0      ENSG00000000003    TC              NaN         13.329790   \n",
       " 1      ENSG00000000005    TC              NaN          2.684029   \n",
       " 2      ENSG00000000419    TC        77.776011         35.997874   \n",
       " 3      ENSG00000000457    TC        45.242826         41.174595   \n",
       " 4      ENSG00000000460    TC        45.695891          7.036939   \n",
       " ...                ...   ...              ...               ...   \n",
       " 20428  ENSG00000283619    TC              NaN          9.577465   \n",
       " 20429  ENSG00000283623    TC              NaN         21.413766   \n",
       " 20430  ENSG00000283652    TC              NaN         73.935690   \n",
       " 20431  ENSG00000283683    TC              NaN         96.332713   \n",
       " 20432  ENSG00000283697    TC              NaN         49.460537   \n",
       " \n",
       "        GWAS_percentile  pQTL_percentile  Prioscore_mean  Prioscore_max  \\\n",
       " 0                  NaN              NaN       13.329790      13.329790   \n",
       " 1                  NaN              NaN        2.684029       2.684029   \n",
       " 2            54.057023              NaN       55.943636      77.776011   \n",
       " 3            41.658383              NaN       42.691935      45.242826   \n",
       " 4            41.061993              NaN       31.264941      45.695891   \n",
       " ...                ...              ...             ...            ...   \n",
       " 20428              NaN              NaN        9.577465       9.577465   \n",
       " 20429              NaN              NaN       21.413766      21.413766   \n",
       " 20430              NaN              NaN       73.935690      73.935690   \n",
       " 20431              NaN              NaN       96.332713      96.332713   \n",
       " 20432              NaN              NaN       49.460537      49.460537   \n",
       " \n",
       "        Prioscore_min  Prioscore_median  Prioscore_product  \n",
       " 0          13.329790         13.329790           2.590001  \n",
       " 1           2.684029          2.684029           0.987319  \n",
       " 2          35.997874         54.057023           3.975777  \n",
       " 3          41.174595         41.658383           3.753123  \n",
       " 4           7.036939         41.061993           3.162755  \n",
       " ...              ...               ...                ...  \n",
       " 20428       9.577465          9.577465           2.259413  \n",
       " 20429      21.413766         21.413766           3.064034  \n",
       " 20430      73.935690         73.935690           4.303196  \n",
       " 20431      96.332713         96.332713           4.567808  \n",
       " 20432      49.460537         49.460537           3.901175  \n",
       " \n",
       " [20433 rows x 11 columns],\n",
       " 'score_eval': {'Prioscore_mean': 5.882,\n",
       "  'Prioscore_max': 5.882,\n",
       "  'Prioscore_min': 15.686,\n",
       "  'Prioscore_median': 9.804,\n",
       "  'Prioscore_product': 10.784},\n",
       " 'OR_eval': {'Prioscore_mean': [np.float64(14.489), np.float64(0.0), 6],\n",
       "  'Prioscore_max': [np.float64(14.489), np.float64(0.0), 6],\n",
       "  'Prioscore_min': [np.float64(48.756), np.float64(0.0), 16],\n",
       "  'Prioscore_median': [np.float64(26.418), np.float64(0.0), 10],\n",
       "  'Prioscore_product': [np.float64(29.739), np.float64(0.0), 11]}}"
      ]
     },
     "execution_count": 7,
     "metadata": {},
     "output_type": "execute_result"
    }
   ],
   "source": [
    "finaldic = run_full_trait_pipeline(dic_clean,drug_reference=merged,scoring_functions = [Mean, Max, Min, Median, Product],\n",
    "                                   evaluate_or_fn=evaluate_OR,evaluate_score_fn=evaluate_trait_scores,\n",
    "                        score_kwargs={\"cutoff\": 0.005,\"overlap_method\": \"topvalues\"},or_kwargs = {\"score_cols\" : [\"Prioscore_mean\", \"Prioscore_max\", \"Prioscore_min\", \"Prioscore_median\",\"Prioscore_product\"],\n",
    "                        \"method\" : \"topvalues\",\"cutoff\":0.005}\n",
    "                        ,verbose = False)\n",
    "\n",
    "finaldic[\"TC\"]\n"
   ]
  },
  {
   "cell_type": "code",
   "execution_count": 10,
   "id": "0249d0db",
   "metadata": {},
   "outputs": [
    {
     "data": {
      "image/png": "[encoded data removed]",
      "text/plain": [
       "<Figure size 600x600 with 1 Axes>"
      ]
     },
     "metadata": {},
     "output_type": "display_data"
    },
    {
     "data": {
      "text/plain": [
       "(np.float64(nan), np.float64(nan))"
      ]
     },
     "execution_count": 10,
     "metadata": {},
     "output_type": "execute_result"
    }
   ],
   "source": [
    "from gene_tools import compare_drug_target_percentiles\n",
    "TC = finaldic[\"TC\"][\"data\"]\n",
    "compare_drug_target_percentiles(\n",
    "    df=TC,\n",
    "    merged=merged,\n",
    "    trait=\"TC\",\n",
    "    reference_method=\"GWAS\",\n",
    "    method=\"min\",\n",
    "    targetthreshold=3\n",
    ")\n"
   ]
  }
 ],
 "metadata": {
  "kernelspec": {
   "display_name": "bioenv",
   "language": "python",
   "name": "python3"
  },
  "language_info": {
   "codemirror_mode": {
    "name": "ipython",
    "version": 3
   },
   "file_extension": ".py",
   "mimetype": "text/x-python",
   "name": "python",
   "nbconvert_exporter": "python",
   "pygments_lexer": "ipython3",
   "version": "3.10.16"
  }
 },
 "nbformat": 4,
 "nbformat_minor": 5
}
