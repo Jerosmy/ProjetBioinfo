{
 "cells": [
  {
   "cell_type": "code",
   "execution_count": 1,
   "id": "f171beb1",
   "metadata": {},
   "outputs": [
    {
     "name": "stdout",
     "output_type": "stream",
     "text": [
      "C:\\Users\\alber\\OneDrive\\Documents\\GitHub\\ProjetBioinfo\n"
     ]
    },
    {
     "data": {
      "text/plain": [
       "['expl_analysis.png', '00_BPStart']"
      ]
     },
     "execution_count": 1,
     "metadata": {},
     "output_type": "execute_result"
    }
   ],
   "source": [
    "import pandas as pd\n",
    "import os\n",
    "import gene_tools as gt\n",
    "\n",
    "\n",
    "os.chdir(\"C:/Users/alber/OneDrive/Documents/GitHub/ProjetBioinfo\")\n",
    "\n",
    "print(os.getcwd())\n",
    "os.listdir(\"data\")"
   ]
  },
  {
   "cell_type": "code",
   "execution_count": 2,
   "id": "f66c9aba",
   "metadata": {},
   "outputs": [],
   "source": [
    "from gene_tools import foldersLoad, cleanDic, compute_scores, geneScores, NA_filtering,evaluate_trait_scores,evaluate_OR\n",
    "from Scoring.scomet import Mean, Max, Min, Median, pca\n",
    "\n",
    "root_path = os.path.join('data', '00_BPStart/00_gene_prioritization')\n",
    "\n",
    "folders = ['eQTL_GWAS_blood', 'Exome', 'GWAS','pQTL_GWAS']\n",
    "raw_data = foldersLoad(root_path, folders)\n",
    "merged = pd.read_csv(r\"data\\00_BPStart\\merged_drug_all_db_with_hgnc_TTD.tsv\", sep=\"\\t\")\n",
    "dic_clean = gt.cleanDic(raw_data)\n"
   ]
  },
  {
   "cell_type": "code",
   "execution_count": 3,
   "id": "fe01994f",
   "metadata": {},
   "outputs": [
    {
     "name": "stdout",
     "output_type": "stream",
     "text": [
      "Prioscore_mean: 20.00% of top 1% are drug targets\n",
      "Prioscore_max: 7.69% of top 1% are drug targets\n",
      "Prioscore_min: 6.01% of top 1% are drug targets\n",
      "Prioscore_median: 22.22% of top 1% are drug targets\n",
      "Prioscore_product: 9.35% of top 1% are drug targets\n",
      "Prioscore_mean: 4.41% of top 1% are drug targets\n",
      "Prioscore_max: 2.94% of top 1% are drug targets\n",
      "Prioscore_min: 6.37% of top 1% are drug targets\n",
      "Prioscore_median: 4.90% of top 1% are drug targets\n",
      "Prioscore_product: 5.39% of top 1% are drug targets\n"
     ]
    },
    {
     "data": {
      "text/plain": [
       "19197"
      ]
     },
     "execution_count": 3,
     "metadata": {},
     "output_type": "execute_result"
    }
   ],
   "source": [
    "from Scoring.scomet import Mean, Max, Min, Median, pca, Product\n",
    "\n",
    "ldl_clean = dic_clean[\"LDL\"]\n",
    "\n",
    "Max(ldl_clean)\n",
    "Mean(ldl_clean)\n",
    "Median(ldl_clean)\n",
    "Min(ldl_clean)\n",
    "Product(ldl_clean)\n",
    "\n",
    "score_cols = [\"Prioscore_mean\", \"Prioscore_max\", \"Prioscore_min\", \"Prioscore_median\",\"Prioscore_product\"]\n",
    "drug_targets = set(merged[merged['trait'] == 'LDL'].loc[merged[merged['trait'] == 'LDL'][\"Sum\"] >= 3,\"EnsemblId\"])   \n",
    "                                                                                                             \n",
    "for col in score_cols:\n",
    "    top = ldl_clean.loc[ldl_clean[col] < 0.5]\n",
    "    top_ids = set(top[\"EnsemblId\"])\n",
    "    overlap = top_ids & drug_targets\n",
    "    percent = 100 * len(overlap) / len(top_ids)\n",
    "    print(f\"{col}: {percent:.2f}% of top 1% are drug targets\")\n",
    "    \n",
    "for col in score_cols:\n",
    "    top = ldl_clean.sort_values(by=col, ascending=True).head(int(0.01 * len(ldl_clean)))\n",
    "    top_ids = set(top[\"EnsemblId\"])\n",
    "    overlap = top_ids & drug_targets\n",
    "    percent = 100 * len(overlap) / len(top_ids)\n",
    "    print(f\"{col}: {percent:.2f}% of top 1% are drug targets\")\n",
    "\n",
    "\n",
    "    \n",
    "len(ldl_clean[\"GWAS_percentile\"].dropna())"
   ]
  },
  {
   "cell_type": "code",
   "execution_count": 4,
   "id": "4e2ebf69",
   "metadata": {},
   "outputs": [
    {
     "data": {
      "text/plain": [
       "{'LDL': {'Prioscore_mean': 80.0,\n",
       "  'Prioscore_max': 80.0,\n",
       "  'Prioscore_min': 100.0,\n",
       "  'Prioscore_median': 80.0,\n",
       "  'Prioscore_product': 80.0}}"
      ]
     },
     "execution_count": 4,
     "metadata": {},
     "output_type": "execute_result"
    }
   ],
   "source": [
    "evaluate_trait_scores(\n",
    "    df = ldl_clean,\n",
    "    drug_reference= merged,\n",
    "    score_columns=[\"Prioscore_mean\", \"Prioscore_max\", \"Prioscore_min\", \"Prioscore_median\", \"Prioscore_product\"],\n",
    "    overlap_method=\"topvalues\",\n",
    "    cutoff=0.01,\n",
    "    printer=False,\n",
    "    targetthreshold=3)"
   ]
  },
  {
   "cell_type": "code",
   "execution_count": 5,
   "id": "64fee6c7",
   "metadata": {},
   "outputs": [
    {
     "name": "stdout",
     "output_type": "stream",
     "text": [
      "[LDL] Prioscore_mean: OR = 1.76, p = 1.3968e-01, drug targets in top 1% = 11\n",
      "[LDL] Prioscore_max: OR = 1.76, p = 1.3968e-01, drug targets in top 1% = 11\n",
      "[LDL] Prioscore_min: OR = 2.32, p = 3.1401e-02, drug targets in top 1% = 13\n",
      "[LDL] Prioscore_median: OR = 1.76, p = 1.3968e-01, drug targets in top 1% = 11\n",
      "[LDL] Prioscore_product: OR = 2.02, p = 5.8701e-02, drug targets in top 1% = 12\n"
     ]
    },
    {
     "data": {
      "text/plain": [
       "{'LDL': {'Prioscore_mean': [1.758, 0.14, 11],\n",
       "  'Prioscore_max': [1.758, 0.14, 11],\n",
       "  'Prioscore_min': [2.317, 0.031, 13],\n",
       "  'Prioscore_median': [1.758, 0.14, 11],\n",
       "  'Prioscore_product': [2.023, 0.059, 12]}}"
      ]
     },
     "execution_count": 5,
     "metadata": {},
     "output_type": "execute_result"
    }
   ],
   "source": [
    "\n",
    "\n",
    "from gene_tools.analysis import evaluate_OR, run_full_trait_pipeline\n",
    "\n",
    "evaluate_OR(merged,ldl_clean,sum_threshold=3,cutoff = 0.01,score_cols = [\"Prioscore_mean\", \"Prioscore_max\", \"Prioscore_min\", \"Prioscore_median\",\"Prioscore_product\"],\n",
    "            method=\"topvalues\")\n"
   ]
  },
  {
   "cell_type": "code",
   "execution_count": 6,
   "id": "63508abf",
   "metadata": {},
   "outputs": [
    {
     "data": {
      "text/plain": [
       "{'data':              EnsemblId Trait  eQTL_percentile  Exome_percentile  \\\n",
       " 0      ENSG00000130204    TC         0.007948         46.904066   \n",
       " 1      ENSG00000113161    TC         0.087433          0.116928   \n",
       " 2      ENSG00000189045    TC         0.031794          3.502525   \n",
       " 3      ENSG00000134243    TC         0.039742         72.319957   \n",
       " 4      ENSG00000109917    TC         0.294094         38.772256   \n",
       " ...                ...   ...              ...               ...   \n",
       " 20428  ENSG00000224132    TC              NaN               NaN   \n",
       " 20429  ENSG00000228120    TC              NaN               NaN   \n",
       " 20430  ENSG00000268421    TC              NaN               NaN   \n",
       " 20431  ENSG00000256566    TC              NaN               NaN   \n",
       " 20432  ENSG00000177023    TC              NaN               NaN   \n",
       " \n",
       "        GWAS_percentile  pQTL_percentile  Prioscore_mean  Prioscore_max  \\\n",
       " 0             0.206644              NaN       15.706219      46.904066   \n",
       " 1             0.206644              NaN        0.137002       0.206644   \n",
       " 2             0.206644              NaN        1.246988       3.502525   \n",
       " 3             0.206644              NaN       24.188781      72.319957   \n",
       " 4             0.206644              NaN       13.090998      38.772256   \n",
       " ...                ...              ...             ...            ...   \n",
       " 20428        99.806435              NaN       99.806435      99.806435   \n",
       " 20429        99.822129              NaN       99.822129      99.822129   \n",
       " 20430        99.905833              NaN       99.905833      99.905833   \n",
       " 20431        99.926759              NaN       99.926759      99.926759   \n",
       " 20432              NaN        57.698289       57.698289      57.698289   \n",
       " \n",
       "        Prioscore_min  Prioscore_median  Prioscore_product  \n",
       " 0           0.007948          0.206644          -0.854475  \n",
       " 1           0.087433          0.116928          -2.053277  \n",
       " 2           0.031794          0.206644          -1.257251  \n",
       " 3           0.039742          0.206644          -0.173664  \n",
       " 4           0.206644          0.294094           0.285697  \n",
       " ...              ...               ...                ...  \n",
       " 20428      99.806435         99.806435           4.603233  \n",
       " 20429      99.822129         99.822129           4.603390  \n",
       " 20430      99.905833         99.905833           4.604228  \n",
       " 20431      99.926759         99.926759           4.604438  \n",
       " 20432      57.698289         57.698289           4.055228  \n",
       " \n",
       " [20433 rows x 11 columns],\n",
       " 'score_eval': {'Prioscore_mean': 50.0,\n",
       "  'Prioscore_max': 50.0,\n",
       "  'Prioscore_min': 100.0,\n",
       "  'Prioscore_median': 50.0,\n",
       "  'Prioscore_product': 50.0},\n",
       " 'OR_eval': {'Prioscore_mean': [5.087, 0.304, 1],\n",
       "  'Prioscore_max': [5.087, 0.304, 1],\n",
       "  'Prioscore_min': [inf, 0.027, 2],\n",
       "  'Prioscore_median': [5.087, 0.304, 1],\n",
       "  'Prioscore_product': [5.087, 0.304, 1]}}"
      ]
     },
     "execution_count": 6,
     "metadata": {},
     "output_type": "execute_result"
    }
   ],
   "source": [
    "finaldic = run_full_trait_pipeline(dic_clean,drug_reference=merged,scoring_functions = [Mean, Max, Min, Median, Product],\n",
    "                                   evaluate_or_fn=evaluate_OR,evaluate_score_fn=evaluate_trait_scores,\n",
    "                        score_kwargs={\"cutoff\": 0.005,\"overlap_method\": \"topvalues\"},or_kwargs = {\"score_cols\" : [\"Prioscore_mean\", \"Prioscore_max\", \"Prioscore_min\", \"Prioscore_median\",\"Prioscore_product\"],\n",
    "                        \"method\" : \"topvalues\",\"cutoff\":0.005}\n",
    "                        ,verbose = False)\n",
    "\n",
    "finaldic[\"TC\"]\n"
   ]
  },
  {
   "cell_type": "code",
   "execution_count": 7,
   "id": "cc05f539",
   "metadata": {},
   "outputs": [
    {
     "name": "stdout",
     "output_type": "stream",
     "text": [
      "For 0.5% : \n",
      "('BMD', 'Prioscore_median', inf)\n",
      "for 1%: \n",
      "('EPILEPSY', 'Prioscore_mean', inf)\n",
      "for 5%: \n",
      "('TC', 'Prioscore_min', 7.913)\n"
     ]
    }
   ],
   "source": [
    "def get_best_trait_method(finaldic):\n",
    "    best_trait = None\n",
    "    best_method = None\n",
    "    best_or = -float('inf')\n",
    "\n",
    "    for trait, res in finaldic.items():\n",
    "        for method, (or_val, p_val, n) in res['OR_eval'].items():\n",
    "            if or_val > best_or:\n",
    "                best_or = or_val\n",
    "                best_trait = trait\n",
    "                best_method = method\n",
    "\n",
    "    return best_trait, best_method, best_or\n",
    "\n",
    "print(f\"For 0.5% : \")\n",
    "finaldic = run_full_trait_pipeline(dic_clean,drug_reference=merged,scoring_functions = [Mean, Max, Min, Median, Product],\n",
    "                                   evaluate_or_fn=evaluate_OR,evaluate_score_fn=evaluate_trait_scores,\n",
    "                        score_kwargs={\"cutoff\": 0.005,\"overlap_method\": \"topvalues\"},or_kwargs = {\"score_cols\" : [\"Prioscore_mean\", \"Prioscore_max\", \"Prioscore_min\", \"Prioscore_median\",\"Prioscore_product\"],\n",
    "                        \"method\" : \"topvalues\",\"cutoff\":0.005}\n",
    "                        ,verbose = False)\n",
    "print(get_best_trait_method(finaldic))\n",
    "\n",
    "\n",
    "\n",
    "print(f\"for 1%: \")\n",
    "finaldic = run_full_trait_pipeline(dic_clean,drug_reference=merged,scoring_functions = [Mean, Max, Min, Median, Product],\n",
    "                                   evaluate_or_fn=evaluate_OR,evaluate_score_fn=evaluate_trait_scores,\n",
    "                        score_kwargs={\"cutoff\": 0.01,\"overlap_method\": \"topvalues\"},or_kwargs = {\"score_cols\" : [\"Prioscore_mean\", \"Prioscore_max\", \"Prioscore_min\", \"Prioscore_median\",\"Prioscore_product\"],\n",
    "                        \"method\" : \"topvalues\",\"cutoff\":0.01}\n",
    "                        ,verbose = False)\n",
    "print(get_best_trait_method(finaldic))\n",
    "\n",
    "print(f\"for 5%: \")\n",
    "\n",
    "finaldic = run_full_trait_pipeline(dic_clean,drug_reference=merged,scoring_functions = [Mean, Max, Min, Median, Product],\n",
    "                                   evaluate_or_fn=evaluate_OR,evaluate_score_fn=evaluate_trait_scores,\n",
    "                        score_kwargs={\"cutoff\": 0.05,\"overlap_method\": \"topvalues\"},or_kwargs = {\"score_cols\" : [\"Prioscore_mean\", \"Prioscore_max\", \"Prioscore_min\", \"Prioscore_median\",\"Prioscore_product\"],\n",
    "                        \"method\" : \"topvalues\",\"cutoff\":0.05}\n",
    "                        ,verbose = False)\n",
    "\n",
    "print(get_best_trait_method(finaldic))\n"
   ]
  },
  {
   "cell_type": "code",
   "execution_count": 8,
   "id": "0249d0db",
   "metadata": {},
   "outputs": [
    {
     "ename": "ImportError",
     "evalue": "cannot import name 'compare_percentiles_boxplot' from 'gene_tools' (c:\\Users\\alber\\OneDrive\\Documents\\GitHub\\ProjetBioinfo\\gene_tools\\__init__.py)",
     "output_type": "error",
     "traceback": [
      "\u001b[1;31m---------------------------------------------------------------------------\u001b[0m",
      "\u001b[1;31mImportError\u001b[0m                               Traceback (most recent call last)",
      "Cell \u001b[1;32mIn[8], line 1\u001b[0m\n\u001b[1;32m----> 1\u001b[0m \u001b[38;5;28;01mfrom\u001b[39;00m \u001b[38;5;21;01mgene_tools\u001b[39;00m \u001b[38;5;28;01mimport\u001b[39;00m compare_percentiles_boxplot\n",
      "\u001b[1;31mImportError\u001b[0m: cannot import name 'compare_percentiles_boxplot' from 'gene_tools' (c:\\Users\\alber\\OneDrive\\Documents\\GitHub\\ProjetBioinfo\\gene_tools\\__init__.py)"
     ]
    }
   ],
   "source": [
    "from gene_tools import compare_percentiles_boxplot"
   ]
  }
 ],
 "metadata": {
  "kernelspec": {
   "display_name": "base",
   "language": "python",
   "name": "python3"
  },
  "language_info": {
   "codemirror_mode": {
    "name": "ipython",
    "version": 3
   },
   "file_extension": ".py",
   "mimetype": "text/x-python",
   "name": "python",
   "nbconvert_exporter": "python",
   "pygments_lexer": "ipython3",
   "version": "3.11.7"
  }
 },
 "nbformat": 4,
 "nbformat_minor": 5
}
