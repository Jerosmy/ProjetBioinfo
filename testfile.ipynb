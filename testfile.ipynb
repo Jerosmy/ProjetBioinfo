{
 "cells": [
  {
   "cell_type": "code",
   "execution_count": 73,
   "id": "f171beb1",
   "metadata": {},
   "outputs": [],
   "source": [
    "import pandas as pd\n"
   ]
  },
  {
   "cell_type": "code",
   "execution_count": null,
   "id": "f66c9aba",
   "metadata": {},
   "outputs": [],
   "source": [
    "from gene_tools import foldersLoad, cleanDic, compute_scores, geneScores, NA_filtering\n",
    "from Scoring.scomet import Mean, Max, Min, Median, pca\n",
    "\n",
    "root_path = r\"C:\\Users\\alber\\Downloads\\00_BPStart\\00_BPStart\\00_gene_prioritization\"\n",
    "folders = [\"GWAS\", \"eQTL_GWAS_blood\", \"pQTL_GWAS\", \"Exome\"]\n",
    "raw_data = foldersLoad(root_path, folders)\n",
    "dic_clean = cleanDic(raw_data)\n",
    "merged = pd.read_csv(r\"C:\\Users\\alber\\Downloads\\00_BPStart\\00_BPStart\\merged_drug_all_db_with_hgnc_TTD.tsv\", sep=\"\\t\")"
   ]
  },
  {
   "cell_type": "code",
   "execution_count": 112,
   "id": "fe01994f",
   "metadata": {},
   "outputs": [
    {
     "name": "stdout",
     "output_type": "stream",
     "text": [
      "Prioscore_mean: 20.00% of top 1% are drug targets\n",
      "Prioscore_max: 7.69% of top 1% are drug targets\n",
      "Prioscore_min: 6.01% of top 1% are drug targets\n",
      "Prioscore_median: 22.22% of top 1% are drug targets\n",
      "Prioscore_mean: 4.41% of top 1% are drug targets\n",
      "Prioscore_max: 2.94% of top 1% are drug targets\n",
      "Prioscore_min: 6.37% of top 1% are drug targets\n",
      "Prioscore_median: 4.90% of top 1% are drug targets\n"
     ]
    },
    {
     "data": {
      "text/plain": [
       "1929"
      ]
     },
     "execution_count": 112,
     "metadata": {},
     "output_type": "execute_result"
    }
   ],
   "source": [
    "from Scoring.scomet import Mean, Max, Min, Median, pca\n",
    "\n",
    "ldl_clean = dic_clean[\"LDL\"]\n",
    "\n",
    "Max(ldl_clean)\n",
    "Mean(ldl_clean)\n",
    "Median(ldl_clean)\n",
    "Min(ldl_clean)\n",
    "\n",
    "score_cols = [\"Prioscore_mean\", \"Prioscore_max\", \"Prioscore_min\", \"Prioscore_median\"]\n",
    "drug_targets = set(merged[merged['trait'] == 'LDL'].loc[merged[merged['trait'] == 'LDL'][\"Sum\"] >= 3,\"EnsemblId\"])   \n",
    "                                                                                                             \n",
    "for col in score_cols:\n",
    "    top = ldl_clean.loc[ldl_clean[col] < 0.5]\n",
    "    top_ids = set(top[\"EnsemblId\"])\n",
    "    overlap = top_ids & drug_targets\n",
    "    percent = 100 * len(overlap) / len(top_ids)\n",
    "    print(f\"{col}: {percent:.2f}% of top 1% are drug targets\")\n",
    "    \n",
    "for col in score_cols:\n",
    "    top = ldl_clean.sort_values(by=col, ascending=True).head(int(0.01 * len(ldl_clean)))\n",
    "    top_ids = set(top[\"EnsemblId\"])\n",
    "    overlap = top_ids & drug_targets\n",
    "    percent = 100 * len(overlap) / len(top_ids)\n",
    "    print(f\"{col}: {percent:.2f}% of top 1% are drug targets\")\n",
    "len(ldl_clean[\"GWAS_percentile\"].dropna())"
   ]
  },
  {
   "cell_type": "markdown",
   "id": "7ca59dcb",
   "metadata": {},
   "source": []
  },
  {
   "cell_type": "code",
   "execution_count": 97,
   "id": "64fee6c7",
   "metadata": {},
   "outputs": [
    {
     "name": "stdout",
     "output_type": "stream",
     "text": [
      "1387\n",
      "Prioscore_mean: OR = 0.57, p = 7.4492e-01, drug targets in top 1.0% = 2\n",
      "Prioscore_max: OR = 0.26, p = 2.0838e-01, drug targets in top 1.0% = 1\n",
      "Prioscore_min: OR = 0.94, p = 1.0000e+00, drug targets in top 1.0% = 3\n",
      "Prioscore_median: OR = 0.94, p = 1.0000e+00, drug targets in top 1.0% = 3\n",
      "PCA: OR = 0.57, p = 7.4492e-01, drug targets in top 1.0% = 2\n"
     ]
    }
   ],
   "source": [
    "\n",
    "\n",
    "ldl_clean[\"LDL\"] = NA_filtering(ldl_clean[\"LDL\"])\n",
    "ldl_clean [\"LDL\"] = pca(ldl_clean[\"LDL\"])\n",
    "Max(ldl_clean[\"LDL\"])\n",
    "Mean(ldl_clean[\"LDL\"])\n",
    "Median(ldl_clean[\"LDL\"])\n",
    "Min(ldl_clean[\"LDL\"])\n",
    "print(len(ldl_clean[\"LDL\"][\"Prioscore_min\"]))\n",
    "\n",
    "from gene_tools.analysis import evaluate_prioritization\n",
    "\n",
    "evaluate_prioritization(df,ldl_clean[\"LDL\"],sum_threshold=2,top_percent = 0.01,score_cols = [\"Prioscore_mean\", \"Prioscore_max\", \"Prioscore_min\", \"Prioscore_median\",\"PCA\"])\n"
   ]
  }
 ],
 "metadata": {
  "kernelspec": {
   "display_name": "Python 3",
   "language": "python",
   "name": "python3"
  },
  "language_info": {
   "codemirror_mode": {
    "name": "ipython",
    "version": 3
   },
   "file_extension": ".py",
   "mimetype": "text/x-python",
   "name": "python",
   "nbconvert_exporter": "python",
   "pygments_lexer": "ipython3",
   "version": "3.11.9"
  }
 },
 "nbformat": 4,
 "nbformat_minor": 5
}
